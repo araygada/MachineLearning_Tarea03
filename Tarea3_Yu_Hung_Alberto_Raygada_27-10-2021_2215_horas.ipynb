{
 "cells": [
  {
   "cell_type": "markdown",
   "id": "591e849b",
   "metadata": {},
   "source": [
    "# Tecnológico de Costa Rica\n",
    "## Programa de Ciencia de Datos\n",
    "### Prof. Felipe Meza Obando,\n",
    "\n",
    "#### Aprendizaje automático (4B)\n",
    "#### Tarea-3\n",
    "\n",
    "--- \n",
    "Medio de entrega: Link de GitHub\n",
    "\n",
    "Entregables: Un archivo jupyter ( .IPYNB ). \n",
    "\n",
    "Modo de trabajo: Parejas:\n",
    "Estudiantes:\n",
    "\n",
    "Yu Hung Yeh Chai\n",
    "\n",
    "José Alberto Raygada Agüero\n",
    "\n",
    "---\n",
    "\n",
    "El objetivo de la Tarea 3 consiste en elegir un conjunto de datos de mediana complejidad que no sea trivial (es decir, que permita alcanzar las actividades de la tarea), y aplicarle algunos algoritmos supervisados de su elección, de la siguiente forma:\n",
    "\n",
    "---"
   ]
  },
  {
   "cell_type": "markdown",
   "id": "fc56dbb0",
   "metadata": {},
   "source": [
    "# 1. Investigar sobre las métricas para evaluación de los modelos de aprendizaje supervisado, tanto para clasificación como para regresión, debe explicar el detalle de cada métrica y plantear un ejemplo de cada una, según sea el caso."
   ]
  },
  {
   "cell_type": "code",
   "execution_count": 59,
   "id": "e22c5883",
   "metadata": {},
   "outputs": [],
   "source": [
    "%matplotlib inline\n",
    "import matplotlib\n",
    "import matplotlib.pyplot as plt\n",
    "import numpy as np\n",
    "import pandas as pd\n",
    "import sklearn\n",
    "from math import sqrt\n",
    "from sklearn.impute import SimpleImputer\n",
    "from sklearn.preprocessing import MinMaxScaler\n",
    "from sklearn.metrics import mean_absolute_error\n",
    "from sklearn.metrics import mean_squared_error\n",
    "from sklearn.model_selection import train_test_split\n",
    "from sklearn.neighbors import KNeighborsRegressor\n",
    "import seaborn as sns\n",
    "\n",
    "#Funciones\n",
    "def bold(t):\n",
    "    \"\"\"\n",
    "    Funcion para formatear en negrita el texto.\n",
    "    t = cualquier dato\n",
    "    \"\"\"\n",
    "    return \"\\033[1m\" + str(t) + \"\\033[0m\"\n",
    "\n",
    "def newline():\n",
    "    \"\"\"\n",
    "    Funcion para imprimir cambio de linea\n",
    "    \"\"\"\n",
    "    print(\"\\r\\n\")\n",
    "    \n",
    "def titulo(t):\n",
    "    \"\"\"\n",
    "    Funcion para imprimir titulo formateado.\n",
    "    t = titulo\n",
    "    \"\"\"\n",
    "    print(bold(t))\n",
    "    print(\"----------------------------------------------\")\n",
    "    newline()\n",
    "    "
   ]
  },
  {
   "cell_type": "markdown",
   "id": "92f92fee",
   "metadata": {},
   "source": [
    "## Métricas de evaluación de clasificación\n",
    "\n",
    "### Matriz de confusión\n",
    "\n",
    "La idea general de la ***Matriz de confusión*** es contar el número de veces que las instancias de la **clase A** son clasificados como **clase B**. Para computar la ***Matriz de confusión*** se requiere tener primero un conjunto de predicciones de tal forma que pueda ser comparado con el target real. Como resultado de la aplicación de esta técnica se obtiene una matriz en la que cada fila representa los datos reales de cada clase, mientras que las columnas representan la  predicción de cada clase, teniendo como componentes en cada caso negativos y positivos respectivamente. Así, la primera casilla de la primera columna representará los negativos verdaderos (***true negatives***) y la de las segunda columna los falsos positivos (***false positives***); la primera casilla de la segunda fila muestra los falsos negativos (***false negatives***) y finalmente la segunda casilla de esa fila representa los positivos verdaderos (***true positives***).\n",
    "\n",
    "\n"
   ]
  },
  {
   "cell_type": "code",
   "execution_count": 60,
   "id": "9644fb02",
   "metadata": {},
   "outputs": [
    {
     "data": {
      "image/png": "[encoded data removed]",
      "text/plain": [
       "<IPython.core.display.Image object>"
      ]
     },
     "execution_count": 60,
     "metadata": {},
     "output_type": "execute_result"
    }
   ],
   "source": [
    "from IPython.display import Image\n",
    "Image(\"confusion_matrix.png\")"
   ]
  },
  {
   "cell_type": "code",
   "execution_count": 61,
   "id": "21180c5c",
   "metadata": {},
   "outputs": [
    {
     "data": {
      "text/plain": [
       "dict_keys(['data', 'target', 'frame', 'categories', 'feature_names', 'target_names', 'DESCR', 'details', 'url'])"
      ]
     },
     "execution_count": 61,
     "metadata": {},
     "output_type": "execute_result"
    }
   ],
   "source": [
    "from sklearn.datasets import fetch_openml\n",
    "mnist = fetch_openml('mnist_784', version=1)\n",
    "mnist.keys()"
   ]
  },
  {
   "cell_type": "code",
   "execution_count": 62,
   "id": "de558ab3",
   "metadata": {},
   "outputs": [
    {
     "data": {
      "text/plain": [
       "(70000, 784)"
      ]
     },
     "execution_count": 62,
     "metadata": {},
     "output_type": "execute_result"
    }
   ],
   "source": [
    "X, y = mnist[\"data\"], mnist[\"target\"]\n",
    "X.shape # 70 mil imágenes y 784 features (28 x 28 pixels), each pixel = intensity from 0 (white) to 255 (black)"
   ]
  },
  {
   "cell_type": "code",
   "execution_count": 63,
   "id": "0981a3ee",
   "metadata": {},
   "outputs": [
    {
     "data": {
      "text/plain": [
       "(70000,)"
      ]
     },
     "execution_count": 63,
     "metadata": {},
     "output_type": "execute_result"
    }
   ],
   "source": [
    "y.shape"
   ]
  },
  {
   "cell_type": "code",
   "execution_count": 64,
   "id": "64e34cd6",
   "metadata": {},
   "outputs": [
    {
     "data": {
      "text/plain": [
       "'5'"
      ]
     },
     "execution_count": 64,
     "metadata": {},
     "output_type": "execute_result"
    }
   ],
   "source": [
    "y[0]"
   ]
  },
  {
   "cell_type": "code",
   "execution_count": 65,
   "id": "5bbbd4d0",
   "metadata": {},
   "outputs": [],
   "source": [
    "y = y.astype(np.uint8) # Convierte la información de strings a números (integer)"
   ]
  },
  {
   "cell_type": "code",
   "execution_count": 66,
   "id": "cdb77b2a",
   "metadata": {},
   "outputs": [],
   "source": [
    "X_train, X_test, y_train, y_test = X[:6000], X[6000:], y[:6000], y[6000:] # Training set = 60,000, test set = 10,000"
   ]
  },
  {
   "cell_type": "code",
   "execution_count": 67,
   "id": "2614ae93",
   "metadata": {},
   "outputs": [],
   "source": [
    "# Para simplificar, se escoge únicamente un dígito, el 5\n",
    "y_train_5 = (y_train == 5)\n",
    "y_test_5 = (y_test == 5)"
   ]
  },
  {
   "cell_type": "code",
   "execution_count": 68,
   "id": "532d50e1",
   "metadata": {},
   "outputs": [
    {
     "data": {
      "text/plain": [
       "SGDClassifier(random_state=42)"
      ]
     },
     "execution_count": 68,
     "metadata": {},
     "output_type": "execute_result"
    }
   ],
   "source": [
    "from sklearn.linear_model import SGDClassifier # Se escoge como clasificador el Stochastic Gradient Descent (SGD)\n",
    "\n",
    "sgd_clf = SGDClassifier(random_state=42) # Se escoge el parámetro 42 para obtener resultados reproducibles\n",
    "sgd_clf.fit(X_train, y_train_5)"
   ]
  },
  {
   "cell_type": "code",
   "execution_count": 69,
   "id": "001b604c",
   "metadata": {},
   "outputs": [],
   "source": [
    "# Aplicación de la métrica de Confusion Matrix\n",
    "# Primero se debe contar con el set de predicciones para poder comparar con el target real\n",
    "# Se utiliza para el ejemplo la función cross_val_predict\n",
    "\n",
    "from sklearn.model_selection import cross_val_predict\n",
    "\n",
    "y_train_pred = cross_val_predict(sgd_clf, X_train, y_train_5, cv=3) "
   ]
  },
  {
   "cell_type": "code",
   "execution_count": 70,
   "id": "36010b61",
   "metadata": {},
   "outputs": [
    {
     "data": {
      "text/plain": [
       "array([[5375,  111],\n",
       "       [ 120,  394]], dtype=int64)"
      ]
     },
     "execution_count": 70,
     "metadata": {},
     "output_type": "execute_result"
    }
   ],
   "source": [
    "from sklearn.metrics import confusion_matrix\n",
    "\n",
    "confusion_matrix(y_train_5, y_train_pred)"
   ]
  },
  {
   "cell_type": "markdown",
   "id": "94ceca41",
   "metadata": {},
   "source": [
    "El resultado de la matriz nos indica que tenemos 5,375 casos correctamente clasificados como que no son el número 5 (**true negatives TN**), mientras que los restantes 111 fueron erróneamente clasificados como números 5 (**false positives FP**). La segunda fila considera las imágenes reales del número 5 (**positive class**) de las cuales 120 fueron erróneamente clasificadas como que no eran números 5 (**false negatives FN**) y los restantes 394 fueron correctamente identificados con el número 5 (**true positives TP**).\n",
    "\n",
    "Un clasificador perfecto daría como resultado una matriz que contendría únicamente true positives y true negatives, con valores diferentes a cero (**nonzero**) únicamente en su diagonal principal (la que va del extremo superior izquierdo al inferior derecho)."
   ]
  },
  {
   "cell_type": "code",
   "execution_count": 71,
   "id": "8067353c",
   "metadata": {},
   "outputs": [
    {
     "name": "stdout",
     "output_type": "stream",
     "text": [
      "\u001b[1mConfusion matrix - Con clasificador perfecto\u001b[0m\n",
      "----------------------------------------------\n",
      "\r\n",
      "\n",
      "[[5486    0]\n",
      " [   0  514]]\n"
     ]
    }
   ],
   "source": [
    "# Ejemplo de una matriz de confución con un clasificador perfecto:\n",
    "\n",
    "y_train_perfect_predictions = y_train_5 # Simula que se alcanzó la perfección\n",
    "confusion = confusion_matrix(y_train_5, y_train_perfect_predictions)\n",
    "titulo(\"Confusion matrix - Con clasificador perfecto\")\n",
    "print(confusion)"
   ]
  },
  {
   "cell_type": "markdown",
   "id": "18669cce",
   "metadata": {},
   "source": [
    "La **matriz de confución** genera bastante información pero frecuentemente se requiere contar con métricas más concisas, lo cual podemos obtener estableciendo relaciones con el resultado de los diferentes cuadrantes, como por ejemplo:\n",
    "\n",
    "**Métrica de exactitud (Accuracy)**\n",
    "\n",
    "La métrica **Accuracy** es el número de predicciones correctas (TP y TN) dividido por el número de todas las muestras:\n",
    "\n",
    "$$Accuracy = \\frac{TP+TN}{TP+TN+FP+FN}$$\n",
    "\n",
    "\n"
   ]
  },
  {
   "cell_type": "code",
   "execution_count": 72,
   "id": "f4a59d25",
   "metadata": {},
   "outputs": [
    {
     "name": "stdout",
     "output_type": "stream",
     "text": [
      "\u001b[1mMétrica Exactitud\u001b[0m\n",
      "----------------------------------------------\n",
      "\r\n",
      "\n",
      "0.9615\n"
     ]
    }
   ],
   "source": [
    "# Ejemplo de la aplicación de la métrica de exactitud (accuracy)\n",
    "\n",
    "from sklearn.metrics import accuracy_score\n",
    "\n",
    "accuracy = accuracy_score(y_train_5, y_train_pred)\n",
    "titulo(\"Métrica Exactitud\")\n",
    "print(accuracy)"
   ]
  },
  {
   "cell_type": "markdown",
   "id": "4da1b24e",
   "metadata": {},
   "source": [
    "**Métrica de precisión (Precision)**\n",
    "\n",
    "La métrica **Precision** mide cuántas de las muestras pronosticadas como positivas son realmente positivas; es generalmente utilizada como una medida de desempeño cuando el objetivo es limitar el número de falsos positivos (por ejemplo en las pruebas de fármacos, que son test muy onerosos y por lo tanto se requiere de mucha precisión). También se conoce como **positive predictive value (PPV)**:\n",
    "\n",
    "$$Precision =\\frac{TP}{TP + FP}$$"
   ]
  },
  {
   "cell_type": "code",
   "execution_count": 73,
   "id": "88e7b24e",
   "metadata": {},
   "outputs": [
    {
     "name": "stdout",
     "output_type": "stream",
     "text": [
      "\u001b[1mMétrica Precision\u001b[0m\n",
      "----------------------------------------------\n",
      "\r\n",
      "\n",
      "0.7801980198019802\n"
     ]
    }
   ],
   "source": [
    "# Ejemplo de la aplicación de la métrica de precision\n",
    "\n",
    "from sklearn.metrics import precision_score\n",
    "\n",
    "precision = precision_score(y_train_5, y_train_pred)\n",
    "titulo(\"Métrica Precision\")\n",
    "print(precision)"
   ]
  },
  {
   "cell_type": "markdown",
   "id": "5d5783d8",
   "metadata": {},
   "source": [
    "\n",
    "**Métrica de exhaustividad (Recall)**\n",
    "\n",
    "La métrica **Recall** mide cuántas de las muestras positivas fueron cubiertas por las predicciones positivas; es usada como métrica de desempeño cuando se necesita identificar todas las muestras positivas, es decir, cuando es importante evitar los falsos negativos (por ejemplo en la detección de enfermedades, donde es importante identificar a todas las personas que estén enfermas). También se conoce con los nombres de sensitivity, hit rate o **true positive rate (TPR)**:\n",
    "\n",
    "$$Recall =\\frac{TP}{TP + FN}$$\n"
   ]
  },
  {
   "cell_type": "code",
   "execution_count": 74,
   "id": "da2d8b21",
   "metadata": {},
   "outputs": [
    {
     "name": "stdout",
     "output_type": "stream",
     "text": [
      "\u001b[1mMétrica Recall\u001b[0m\n",
      "----------------------------------------------\n",
      "\r\n",
      "\n",
      "0.7665369649805448\n"
     ]
    }
   ],
   "source": [
    "# Ejemplo de la aplicación de la métrica de recall\n",
    "\n",
    "from sklearn.metrics import recall_score\n",
    "\n",
    "recall = recall_score(y_train_5, y_train_pred)\n",
    "titulo(\"Métrica Recall\")\n",
    "print(recall)"
   ]
  },
  {
   "cell_type": "markdown",
   "id": "45c0d0d2",
   "metadata": {},
   "source": [
    "_____\n",
    "**Referencias:**\n",
    "\n",
    "***Hands-On Machine Learning with Scikit-Learn, Keras, and TensorFlow by Aurélien Géron.*** 2019, second edition. Prepare the Data for Machine Learning Algorithms, Feature Scaling, pág. 90.\n",
    "\n",
    "***Introduction to Machine Learning with Python. Andreas C. Müller.*** 2017, Third edition. Evaluation Metrics and Scoring, pág. 289-290.\n",
    "_____"
   ]
  },
  {
   "cell_type": "markdown",
   "id": "21821532",
   "metadata": {},
   "source": [
    "## Métricas de evaluación de regresión\n"
   ]
  },
  {
   "cell_type": "markdown",
   "id": "ca45c3c8",
   "metadata": {},
   "source": [
    "### Error medio absoluto\n",
    "\n",
    "Esta métrica de regresión es el valor medio de la diferencia absoluta entre el valor real y el valor predicho.  Entre menor el numero más exacto es.\n",
    "\n",
    "\n",
    "**Formula:**\n",
    "\n",
    "$$MAE=\\frac{1}{n} \\sum_{i=1}^{n} \\left\\lvert{real_{i} - predicho_{i}}\\right\\rvert$$\n",
    "\n",
    "\n",
    "**Ejemplo:**"
   ]
  },
  {
   "cell_type": "code",
   "execution_count": 75,
   "id": "d6df53b8",
   "metadata": {},
   "outputs": [],
   "source": [
    "Actual = np.array([2,3,4,5,6,7,8,9])\n",
    "Forecast = np.array([1,3,5,4,6,7,10,7])"
   ]
  },
  {
   "cell_type": "markdown",
   "id": "6a74dfd4",
   "metadata": {},
   "source": [
    "El siguiente código muestra cómo calcular el error medio absoluto para este modelo:"
   ]
  },
  {
   "cell_type": "code",
   "execution_count": 76,
   "id": "627a2e67",
   "metadata": {},
   "outputs": [
    {
     "name": "stdout",
     "output_type": "stream",
     "text": [
      "\u001b[1mResultado MAE = \u001b[0m 0.875\n"
     ]
    }
   ],
   "source": [
    "print(bold(\"Resultado MAE = \"), mean_absolute_error(Actual, Forecast))"
   ]
  },
  {
   "cell_type": "markdown",
   "id": "66cf2b6f",
   "metadata": {},
   "source": [
    "### Error cuadrático medio (ECM)\n",
    "\n",
    "El error cuadrático medio (ECM) calcula el valor medio de la diferencia al cuadrado entre el valor real y el predicho para todos los puntos de datos. Todos los valores relacionados se elevan a la segunda potencia, por lo tanto, todos los valores negativos no se compensan con los positivos. Además, debido a las características de esta métrica, el impacto de los errores es mayor. Por ejemplo, si el error en nuestros cálculos iniciales es de 1/2/3, el ECM será igual a 1/4/9 respectivamente. Cuanto menor sea el ECM, más precisas serán nuestras predicciones. ECM = 1 es el punto óptimo en el que nuestro pronóstico es perfectamente preciso.\n",
    "\n",
    "El ECM tiene algunas ventajas frente al EMA:\n",
    "\n",
    "1. El ECM destaca grandes errores entre los pequeños.\n",
    "2. El ECM es diferenciable, lo que ayuda a encontrar los valores mínimos y máximos utilizando los métodos matemáticos de manera más efectiva.\n",
    "\n",
    "**Formula:**\n",
    "\n",
    "$$ECM=\\frac{1}{n} \\sum_{i=1}^{n} (real_{i} - predicho_{i})^{2}$$\n",
    "\n",
    "\n",
    "**Ejemplo:**\n",
    "\n",
    "Utilizando los mismos datos anteriores Actual y Forecast, se muestra el siguiente codigo ejemplo el calculo ECM."
   ]
  },
  {
   "cell_type": "code",
   "execution_count": 77,
   "id": "6e52080c",
   "metadata": {},
   "outputs": [
    {
     "name": "stdout",
     "output_type": "stream",
     "text": [
      "\u001b[1mResultado ECM = \u001b[0m 1.375\n"
     ]
    }
   ],
   "source": [
    "print(bold(\"Resultado ECM = \"), mean_squared_error(Actual, Forecast))"
   ]
  },
  {
   "cell_type": "markdown",
   "id": "c8825429",
   "metadata": {},
   "source": [
    "## Raíz del error cuadrático medio (RECM)\n",
    "\n",
    "El RECM es la raíz cuadrada del ECM. Es fácil de interpretar en comparación con el ECM y utiliza valores absolutos más pequeños, lo que es útil para los cálculos informáticos.\n",
    "\n",
    "**Formula:**\n",
    "\n",
    "$$RECM = \\sqrt{\\frac{1}{n} \\sum_{i=1}^{n} (real_{i} - predicho_{i})^{2}}$$\n",
    "\n",
    "\n",
    "**Ejemplo:**\n",
    "\n",
    "Utilizando los mismos datos anteriores Actual y Forecast, se muestra el siguiente codigo ejemplo el calculo RECM."
   ]
  },
  {
   "cell_type": "code",
   "execution_count": 78,
   "id": "525d23eb",
   "metadata": {},
   "outputs": [
    {
     "name": "stdout",
     "output_type": "stream",
     "text": [
      "\u001b[1mResultado RECM = \u001b[0m 1.1726039399558574\n"
     ]
    }
   ],
   "source": [
    "print(bold(\"Resultado RECM = \"), sqrt(mean_squared_error(Actual, Forecast)))"
   ]
  },
  {
   "cell_type": "markdown",
   "id": "8ffefddc",
   "metadata": {},
   "source": [
    "_____\n",
    "**Referencias:**\n",
    "\n",
    "***Selección de métricas para aprendizaje automático*** https://fayrix.com/machine-learning-metrics_es"
   ]
  },
  {
   "cell_type": "markdown",
   "id": "39b6dfe5",
   "metadata": {},
   "source": [
    "# 2. Elegir el dataset trazar la estrategia del problema basado en su naturaleza (regresión o clasificación).\n",
    "\n",
    "# 3. De ser necesario un pre-procesado, debe llevarlo a cabo\n",
    "\n",
    "Trabajaremos con los datos de estadísticas de videos Trending de videos de USA de Youtube porque nos parece un data set interesesante y de moda e intentaremos crear un modelo de predicción para las categorías de los videos basados en sus atributos.  Este data set es tomado de https://www.kaggle.com/datasnaek/youtube-new\n",
    "\n",
    "## ¿En qué consiste y por qué es necesario realizar el procesado de nuestro dataset?\n",
    "\n",
    "Un sistema de Apredizaje Automático (Machine Learning, ML) no es capaz de reconocer lo que en idioma inglés se conoce como gibberish, que son todos aquellos signos, símbolos o lenguaje en general que no posee un sentido claro y que puede incluir sonidos del habla que no son palabras reales, juegos de lenguaje y jerga especializada que parece absurda para los no especialistas; por tal motivo muy frecuentemente se requiere limpiar nuestro dataset antes de poder aplicar nuestros algoritmos de ML."
   ]
  },
  {
   "cell_type": "markdown",
   "id": "b388aaef",
   "metadata": {},
   "source": [
    "## Exploración inicial de los datos\n",
    "\n",
    "Para decidir cómo limpiar nuestros datos necesitamos estar familiarizados con los mismos. Para tal efecto podemos realizar dos tareas que no son mutuamente excluyentes: primero, escanear los datos y segundo, visualizar la data; esto depende del tipo de datos que estemos manejando, lo más frecuente es que trabajemos con una matriz numérica pero podría tratarse de dataos de imágenes, audio, texto u otro tipo de información.\n",
    "\n",
    "Lo que deseamos conocer es si la base de datos posee **valores faltantes (missing values)**, cómo se encuentran distribuidos los valores y qué tipo de **características (features)** presenta. "
   ]
  },
  {
   "cell_type": "markdown",
   "id": "fb5a6697",
   "metadata": {},
   "source": [
    "### Manejo de los valores faltantes\n",
    "\n",
    "Muy frecuentemente se carecerá de valores para ciertas características. Esto puede ocurrir por varias razones, como que sea inconveniente, muy oneroso o a veces imposible encontrar un valor en particular.\n",
    "\n",
    "La primera respuesta cuando nos encontramos ante valores faltantes es ignorarlos, sin embargo, como se mencionó antes, algunos algoritmos no podrán funcionar con datos incompletos o bien, los resultados podrían no ser precisos.\n",
    "\n",
    "La segunda solución es sustituir los valores faltantes con un valor fijo - esta técnica se denomina **imputar (imputing)**; podríamos imputar **la media aritmética (mean), la mediana (median) o la moda (mode)** de los valores válidos para una determinada característica. Idealmente deberíamos contar con un conocimiento previo que sea lo suficientemente confiable. \n",
    "\n",
    "_____\n",
    "**Referencias:**\n",
    "\n",
    "***Python Machine Learning By Example by Yuxi (Hayden) Liu.*** 2020, Third edition. Preprocessing and exploration, pág. 26."
   ]
  },
  {
   "cell_type": "markdown",
   "id": "29c7c91b",
   "metadata": {},
   "source": [
    "Se procede con la carga de datos de estadísticas de videos Trending de videos de USA de Youtube."
   ]
  },
  {
   "cell_type": "code",
   "execution_count": 79,
   "id": "322f63a0",
   "metadata": {},
   "outputs": [
    {
     "data": {
      "text/html": [
       "<div>\n",
       "<style scoped>\n",
       "    .dataframe tbody tr th:only-of-type {\n",
       "        vertical-align: middle;\n",
       "    }\n",
       "\n",
       "    .dataframe tbody tr th {\n",
       "        vertical-align: top;\n",
       "    }\n",
       "\n",
       "    .dataframe thead th {\n",
       "        text-align: right;\n",
       "    }\n",
       "</style>\n",
       "<table border=\"1\" class=\"dataframe\">\n",
       "  <thead>\n",
       "    <tr style=\"text-align: right;\">\n",
       "      <th></th>\n",
       "      <th>video_id</th>\n",
       "      <th>trending_date</th>\n",
       "      <th>title</th>\n",
       "      <th>channel_title</th>\n",
       "      <th>category_id</th>\n",
       "      <th>publish_time</th>\n",
       "      <th>tags</th>\n",
       "      <th>views</th>\n",
       "      <th>likes</th>\n",
       "      <th>dislikes</th>\n",
       "      <th>comment_count</th>\n",
       "      <th>thumbnail_link</th>\n",
       "      <th>comments_disabled</th>\n",
       "      <th>ratings_disabled</th>\n",
       "      <th>video_error_or_removed</th>\n",
       "      <th>description</th>\n",
       "    </tr>\n",
       "  </thead>\n",
       "  <tbody>\n",
       "    <tr>\n",
       "      <th>0</th>\n",
       "      <td>2kyS6SvSYSE</td>\n",
       "      <td>17.14.11</td>\n",
       "      <td>WE WANT TO TALK ABOUT OUR MARRIAGE</td>\n",
       "      <td>CaseyNeistat</td>\n",
       "      <td>22</td>\n",
       "      <td>2017-11-13T17:13:01.000Z</td>\n",
       "      <td>SHANtell martin</td>\n",
       "      <td>748374</td>\n",
       "      <td>57527</td>\n",
       "      <td>2966</td>\n",
       "      <td>15954</td>\n",
       "      <td>https://i.ytimg.com/vi/2kyS6SvSYSE/default.jpg</td>\n",
       "      <td>False</td>\n",
       "      <td>False</td>\n",
       "      <td>False</td>\n",
       "      <td>SHANTELL'S CHANNEL - https://www.youtube.com/s...</td>\n",
       "    </tr>\n",
       "    <tr>\n",
       "      <th>1</th>\n",
       "      <td>1ZAPwfrtAFY</td>\n",
       "      <td>17.14.11</td>\n",
       "      <td>The Trump Presidency: Last Week Tonight with J...</td>\n",
       "      <td>LastWeekTonight</td>\n",
       "      <td>24</td>\n",
       "      <td>2017-11-13T07:30:00.000Z</td>\n",
       "      <td>last week tonight trump presidency|\"last week ...</td>\n",
       "      <td>2418783</td>\n",
       "      <td>97185</td>\n",
       "      <td>6146</td>\n",
       "      <td>12703</td>\n",
       "      <td>https://i.ytimg.com/vi/1ZAPwfrtAFY/default.jpg</td>\n",
       "      <td>False</td>\n",
       "      <td>False</td>\n",
       "      <td>False</td>\n",
       "      <td>One year after the presidential election, John...</td>\n",
       "    </tr>\n",
       "    <tr>\n",
       "      <th>2</th>\n",
       "      <td>5qpjK5DgCt4</td>\n",
       "      <td>17.14.11</td>\n",
       "      <td>Racist Superman | Rudy Mancuso, King Bach &amp; Le...</td>\n",
       "      <td>Rudy Mancuso</td>\n",
       "      <td>23</td>\n",
       "      <td>2017-11-12T19:05:24.000Z</td>\n",
       "      <td>racist superman|\"rudy\"|\"mancuso\"|\"king\"|\"bach\"...</td>\n",
       "      <td>3191434</td>\n",
       "      <td>146033</td>\n",
       "      <td>5339</td>\n",
       "      <td>8181</td>\n",
       "      <td>https://i.ytimg.com/vi/5qpjK5DgCt4/default.jpg</td>\n",
       "      <td>False</td>\n",
       "      <td>False</td>\n",
       "      <td>False</td>\n",
       "      <td>WATCH MY PREVIOUS VIDEO ▶ \\n\\nSUBSCRIBE ► http...</td>\n",
       "    </tr>\n",
       "    <tr>\n",
       "      <th>3</th>\n",
       "      <td>puqaWrEC7tY</td>\n",
       "      <td>17.14.11</td>\n",
       "      <td>Nickelback Lyrics: Real or Fake?</td>\n",
       "      <td>Good Mythical Morning</td>\n",
       "      <td>24</td>\n",
       "      <td>2017-11-13T11:00:04.000Z</td>\n",
       "      <td>rhett and link|\"gmm\"|\"good mythical morning\"|\"...</td>\n",
       "      <td>343168</td>\n",
       "      <td>10172</td>\n",
       "      <td>666</td>\n",
       "      <td>2146</td>\n",
       "      <td>https://i.ytimg.com/vi/puqaWrEC7tY/default.jpg</td>\n",
       "      <td>False</td>\n",
       "      <td>False</td>\n",
       "      <td>False</td>\n",
       "      <td>Today we find out if Link is a Nickelback amat...</td>\n",
       "    </tr>\n",
       "    <tr>\n",
       "      <th>4</th>\n",
       "      <td>d380meD0W0M</td>\n",
       "      <td>17.14.11</td>\n",
       "      <td>I Dare You: GOING BALD!?</td>\n",
       "      <td>nigahiga</td>\n",
       "      <td>24</td>\n",
       "      <td>2017-11-12T18:01:41.000Z</td>\n",
       "      <td>ryan|\"higa\"|\"higatv\"|\"nigahiga\"|\"i dare you\"|\"...</td>\n",
       "      <td>2095731</td>\n",
       "      <td>132235</td>\n",
       "      <td>1989</td>\n",
       "      <td>17518</td>\n",
       "      <td>https://i.ytimg.com/vi/d380meD0W0M/default.jpg</td>\n",
       "      <td>False</td>\n",
       "      <td>False</td>\n",
       "      <td>False</td>\n",
       "      <td>I know it's been a while since we did this sho...</td>\n",
       "    </tr>\n",
       "  </tbody>\n",
       "</table>\n",
       "</div>"
      ],
      "text/plain": [
       "      video_id trending_date  \\\n",
       "0  2kyS6SvSYSE      17.14.11   \n",
       "1  1ZAPwfrtAFY      17.14.11   \n",
       "2  5qpjK5DgCt4      17.14.11   \n",
       "3  puqaWrEC7tY      17.14.11   \n",
       "4  d380meD0W0M      17.14.11   \n",
       "\n",
       "                                               title          channel_title  \\\n",
       "0                 WE WANT TO TALK ABOUT OUR MARRIAGE           CaseyNeistat   \n",
       "1  The Trump Presidency: Last Week Tonight with J...        LastWeekTonight   \n",
       "2  Racist Superman | Rudy Mancuso, King Bach & Le...           Rudy Mancuso   \n",
       "3                   Nickelback Lyrics: Real or Fake?  Good Mythical Morning   \n",
       "4                           I Dare You: GOING BALD!?               nigahiga   \n",
       "\n",
       "   category_id              publish_time  \\\n",
       "0           22  2017-11-13T17:13:01.000Z   \n",
       "1           24  2017-11-13T07:30:00.000Z   \n",
       "2           23  2017-11-12T19:05:24.000Z   \n",
       "3           24  2017-11-13T11:00:04.000Z   \n",
       "4           24  2017-11-12T18:01:41.000Z   \n",
       "\n",
       "                                                tags    views   likes  \\\n",
       "0                                    SHANtell martin   748374   57527   \n",
       "1  last week tonight trump presidency|\"last week ...  2418783   97185   \n",
       "2  racist superman|\"rudy\"|\"mancuso\"|\"king\"|\"bach\"...  3191434  146033   \n",
       "3  rhett and link|\"gmm\"|\"good mythical morning\"|\"...   343168   10172   \n",
       "4  ryan|\"higa\"|\"higatv\"|\"nigahiga\"|\"i dare you\"|\"...  2095731  132235   \n",
       "\n",
       "   dislikes  comment_count                                  thumbnail_link  \\\n",
       "0      2966          15954  https://i.ytimg.com/vi/2kyS6SvSYSE/default.jpg   \n",
       "1      6146          12703  https://i.ytimg.com/vi/1ZAPwfrtAFY/default.jpg   \n",
       "2      5339           8181  https://i.ytimg.com/vi/5qpjK5DgCt4/default.jpg   \n",
       "3       666           2146  https://i.ytimg.com/vi/puqaWrEC7tY/default.jpg   \n",
       "4      1989          17518  https://i.ytimg.com/vi/d380meD0W0M/default.jpg   \n",
       "\n",
       "   comments_disabled  ratings_disabled  video_error_or_removed  \\\n",
       "0              False             False                   False   \n",
       "1              False             False                   False   \n",
       "2              False             False                   False   \n",
       "3              False             False                   False   \n",
       "4              False             False                   False   \n",
       "\n",
       "                                         description  \n",
       "0  SHANTELL'S CHANNEL - https://www.youtube.com/s...  \n",
       "1  One year after the presidential election, John...  \n",
       "2  WATCH MY PREVIOUS VIDEO ▶ \\n\\nSUBSCRIBE ► http...  \n",
       "3  Today we find out if Link is a Nickelback amat...  \n",
       "4  I know it's been a while since we did this sho...  "
      ]
     },
     "execution_count": 79,
     "metadata": {},
     "output_type": "execute_result"
    }
   ],
   "source": [
    "df = pd.read_csv(r\"usvideos.csv\")\n",
    "\n",
    "df.head()"
   ]
  },
  {
   "cell_type": "markdown",
   "id": "041f4cfe",
   "metadata": {},
   "source": [
    "Una de las primeras tareas que debemos aplicar es la identificación de datos no numéricos (NaN)"
   ]
  },
  {
   "cell_type": "code",
   "execution_count": 80,
   "id": "2d269ca6",
   "metadata": {},
   "outputs": [
    {
     "data": {
      "text/plain": [
       "video_id                    0\n",
       "trending_date               0\n",
       "title                       0\n",
       "channel_title               0\n",
       "category_id                 0\n",
       "publish_time                0\n",
       "tags                        0\n",
       "views                       0\n",
       "likes                       0\n",
       "dislikes                    0\n",
       "comment_count               0\n",
       "thumbnail_link              0\n",
       "comments_disabled           0\n",
       "ratings_disabled            0\n",
       "video_error_or_removed      0\n",
       "description               570\n",
       "dtype: int64"
      ]
     },
     "execution_count": 80,
     "metadata": {},
     "output_type": "execute_result"
    }
   ],
   "source": [
    "df.isnull().sum()"
   ]
  },
  {
   "cell_type": "markdown",
   "id": "cdc48557",
   "metadata": {},
   "source": [
    "Se dectectó que la columna \"description\" es la única que contiene NaN's pero es columna de texto y sin categorías que no agrega valor en el modelo de análisis de Machine Learning, por lo que se va a eliminar esta columna."
   ]
  },
  {
   "cell_type": "code",
   "execution_count": 81,
   "id": "24e4919c",
   "metadata": {},
   "outputs": [
    {
     "data": {
      "text/plain": [
       "Index(['video_id', 'trending_date', 'title', 'channel_title', 'category_id',\n",
       "       'publish_time', 'tags', 'views', 'likes', 'dislikes', 'comment_count',\n",
       "       'thumbnail_link', 'comments_disabled', 'ratings_disabled',\n",
       "       'video_error_or_removed'],\n",
       "      dtype='object')"
      ]
     },
     "execution_count": 81,
     "metadata": {},
     "output_type": "execute_result"
    }
   ],
   "source": [
    "df.drop('description', axis='columns', inplace=True)\n",
    "df.columns"
   ]
  },
  {
   "cell_type": "code",
   "execution_count": 82,
   "id": "42dd9485",
   "metadata": {},
   "outputs": [
    {
     "data": {
      "text/plain": [
       "Index(['video_id', 'trending_date', 'title', 'channel_title', 'category_id',\n",
       "       'publish_time', 'tags', 'views', 'likes', 'dislikes', 'comment_count',\n",
       "       'thumbnail_link', 'comments_disabled', 'ratings_disabled',\n",
       "       'video_error_or_removed'],\n",
       "      dtype='object')"
      ]
     },
     "execution_count": 82,
     "metadata": {},
     "output_type": "execute_result"
    }
   ],
   "source": [
    "# Detalle de columnas originales\n",
    "\n",
    "df.columns"
   ]
  },
  {
   "cell_type": "markdown",
   "id": "8a1d91c2",
   "metadata": {},
   "source": [
    "El siguiente proceso a seguir es la eliminación de todas aquellas columnas que no representan datos numéricos o categorías y por lo tanto no son relevantes para el modelo de ML."
   ]
  },
  {
   "cell_type": "code",
   "execution_count": 83,
   "id": "610f1dc5",
   "metadata": {},
   "outputs": [
    {
     "data": {
      "text/plain": [
       "Index(['category_id', 'views', 'likes', 'dislikes', 'comment_count',\n",
       "       'comments_disabled', 'ratings_disabled', 'video_error_or_removed'],\n",
       "      dtype='object')"
      ]
     },
     "execution_count": 83,
     "metadata": {},
     "output_type": "execute_result"
    }
   ],
   "source": [
    "df = df.drop(columns = ['video_id','trending_date','title','channel_title','publish_time','tags','thumbnail_link'])\n",
    "df.columns"
   ]
  },
  {
   "cell_type": "markdown",
   "id": "72f8b63c",
   "metadata": {},
   "source": [
    "Seguidamente se debe hacer otra revisión de los datos para identificar que otro preprocesamiento de datos se requiere:"
   ]
  },
  {
   "cell_type": "code",
   "execution_count": 84,
   "id": "04339e33",
   "metadata": {},
   "outputs": [
    {
     "data": {
      "text/html": [
       "<div>\n",
       "<style scoped>\n",
       "    .dataframe tbody tr th:only-of-type {\n",
       "        vertical-align: middle;\n",
       "    }\n",
       "\n",
       "    .dataframe tbody tr th {\n",
       "        vertical-align: top;\n",
       "    }\n",
       "\n",
       "    .dataframe thead th {\n",
       "        text-align: right;\n",
       "    }\n",
       "</style>\n",
       "<table border=\"1\" class=\"dataframe\">\n",
       "  <thead>\n",
       "    <tr style=\"text-align: right;\">\n",
       "      <th></th>\n",
       "      <th>category_id</th>\n",
       "      <th>views</th>\n",
       "      <th>likes</th>\n",
       "      <th>dislikes</th>\n",
       "      <th>comment_count</th>\n",
       "      <th>comments_disabled</th>\n",
       "      <th>ratings_disabled</th>\n",
       "      <th>video_error_or_removed</th>\n",
       "    </tr>\n",
       "  </thead>\n",
       "  <tbody>\n",
       "    <tr>\n",
       "      <th>0</th>\n",
       "      <td>22</td>\n",
       "      <td>748374</td>\n",
       "      <td>57527</td>\n",
       "      <td>2966</td>\n",
       "      <td>15954</td>\n",
       "      <td>False</td>\n",
       "      <td>False</td>\n",
       "      <td>False</td>\n",
       "    </tr>\n",
       "    <tr>\n",
       "      <th>1</th>\n",
       "      <td>24</td>\n",
       "      <td>2418783</td>\n",
       "      <td>97185</td>\n",
       "      <td>6146</td>\n",
       "      <td>12703</td>\n",
       "      <td>False</td>\n",
       "      <td>False</td>\n",
       "      <td>False</td>\n",
       "    </tr>\n",
       "    <tr>\n",
       "      <th>2</th>\n",
       "      <td>23</td>\n",
       "      <td>3191434</td>\n",
       "      <td>146033</td>\n",
       "      <td>5339</td>\n",
       "      <td>8181</td>\n",
       "      <td>False</td>\n",
       "      <td>False</td>\n",
       "      <td>False</td>\n",
       "    </tr>\n",
       "    <tr>\n",
       "      <th>3</th>\n",
       "      <td>24</td>\n",
       "      <td>343168</td>\n",
       "      <td>10172</td>\n",
       "      <td>666</td>\n",
       "      <td>2146</td>\n",
       "      <td>False</td>\n",
       "      <td>False</td>\n",
       "      <td>False</td>\n",
       "    </tr>\n",
       "    <tr>\n",
       "      <th>4</th>\n",
       "      <td>24</td>\n",
       "      <td>2095731</td>\n",
       "      <td>132235</td>\n",
       "      <td>1989</td>\n",
       "      <td>17518</td>\n",
       "      <td>False</td>\n",
       "      <td>False</td>\n",
       "      <td>False</td>\n",
       "    </tr>\n",
       "    <tr>\n",
       "      <th>...</th>\n",
       "      <td>...</td>\n",
       "      <td>...</td>\n",
       "      <td>...</td>\n",
       "      <td>...</td>\n",
       "      <td>...</td>\n",
       "      <td>...</td>\n",
       "      <td>...</td>\n",
       "      <td>...</td>\n",
       "    </tr>\n",
       "    <tr>\n",
       "      <th>40944</th>\n",
       "      <td>15</td>\n",
       "      <td>1685609</td>\n",
       "      <td>38160</td>\n",
       "      <td>1385</td>\n",
       "      <td>2657</td>\n",
       "      <td>False</td>\n",
       "      <td>False</td>\n",
       "      <td>False</td>\n",
       "    </tr>\n",
       "    <tr>\n",
       "      <th>40945</th>\n",
       "      <td>22</td>\n",
       "      <td>1064798</td>\n",
       "      <td>60008</td>\n",
       "      <td>382</td>\n",
       "      <td>3936</td>\n",
       "      <td>False</td>\n",
       "      <td>False</td>\n",
       "      <td>False</td>\n",
       "    </tr>\n",
       "    <tr>\n",
       "      <th>40946</th>\n",
       "      <td>24</td>\n",
       "      <td>1066451</td>\n",
       "      <td>48068</td>\n",
       "      <td>1032</td>\n",
       "      <td>3992</td>\n",
       "      <td>False</td>\n",
       "      <td>False</td>\n",
       "      <td>False</td>\n",
       "    </tr>\n",
       "    <tr>\n",
       "      <th>40947</th>\n",
       "      <td>1</td>\n",
       "      <td>5660813</td>\n",
       "      <td>192957</td>\n",
       "      <td>2846</td>\n",
       "      <td>13088</td>\n",
       "      <td>False</td>\n",
       "      <td>False</td>\n",
       "      <td>False</td>\n",
       "    </tr>\n",
       "    <tr>\n",
       "      <th>40948</th>\n",
       "      <td>20</td>\n",
       "      <td>10306119</td>\n",
       "      <td>357079</td>\n",
       "      <td>212976</td>\n",
       "      <td>144795</td>\n",
       "      <td>False</td>\n",
       "      <td>False</td>\n",
       "      <td>False</td>\n",
       "    </tr>\n",
       "  </tbody>\n",
       "</table>\n",
       "<p>40949 rows × 8 columns</p>\n",
       "</div>"
      ],
      "text/plain": [
       "       category_id     views   likes  dislikes  comment_count  \\\n",
       "0               22    748374   57527      2966          15954   \n",
       "1               24   2418783   97185      6146          12703   \n",
       "2               23   3191434  146033      5339           8181   \n",
       "3               24    343168   10172       666           2146   \n",
       "4               24   2095731  132235      1989          17518   \n",
       "...            ...       ...     ...       ...            ...   \n",
       "40944           15   1685609   38160      1385           2657   \n",
       "40945           22   1064798   60008       382           3936   \n",
       "40946           24   1066451   48068      1032           3992   \n",
       "40947            1   5660813  192957      2846          13088   \n",
       "40948           20  10306119  357079    212976         144795   \n",
       "\n",
       "       comments_disabled  ratings_disabled  video_error_or_removed  \n",
       "0                  False             False                   False  \n",
       "1                  False             False                   False  \n",
       "2                  False             False                   False  \n",
       "3                  False             False                   False  \n",
       "4                  False             False                   False  \n",
       "...                  ...               ...                     ...  \n",
       "40944              False             False                   False  \n",
       "40945              False             False                   False  \n",
       "40946              False             False                   False  \n",
       "40947              False             False                   False  \n",
       "40948              False             False                   False  \n",
       "\n",
       "[40949 rows x 8 columns]"
      ]
     },
     "execution_count": 84,
     "metadata": {},
     "output_type": "execute_result"
    }
   ],
   "source": [
    "df"
   ]
  },
  {
   "cell_type": "markdown",
   "id": "efea187b",
   "metadata": {},
   "source": [
    "Se nota que las últimas tres columnas muestran valores False y True que deben ser sustituidos por 0 y 1 respectivamente que son valores numéricos que si podemos utilizar en los algoritmos de ML."
   ]
  },
  {
   "cell_type": "code",
   "execution_count": 85,
   "id": "01bf02ef",
   "metadata": {},
   "outputs": [
    {
     "data": {
      "text/html": [
       "<div>\n",
       "<style scoped>\n",
       "    .dataframe tbody tr th:only-of-type {\n",
       "        vertical-align: middle;\n",
       "    }\n",
       "\n",
       "    .dataframe tbody tr th {\n",
       "        vertical-align: top;\n",
       "    }\n",
       "\n",
       "    .dataframe thead th {\n",
       "        text-align: right;\n",
       "    }\n",
       "</style>\n",
       "<table border=\"1\" class=\"dataframe\">\n",
       "  <thead>\n",
       "    <tr style=\"text-align: right;\">\n",
       "      <th></th>\n",
       "      <th>category_id</th>\n",
       "      <th>views</th>\n",
       "      <th>likes</th>\n",
       "      <th>dislikes</th>\n",
       "      <th>comment_count</th>\n",
       "      <th>comments_disabled</th>\n",
       "      <th>ratings_disabled</th>\n",
       "      <th>video_error_or_removed</th>\n",
       "    </tr>\n",
       "  </thead>\n",
       "  <tbody>\n",
       "    <tr>\n",
       "      <th>0</th>\n",
       "      <td>22</td>\n",
       "      <td>748374</td>\n",
       "      <td>57527</td>\n",
       "      <td>2966</td>\n",
       "      <td>15954</td>\n",
       "      <td>0</td>\n",
       "      <td>0</td>\n",
       "      <td>0</td>\n",
       "    </tr>\n",
       "    <tr>\n",
       "      <th>1</th>\n",
       "      <td>24</td>\n",
       "      <td>2418783</td>\n",
       "      <td>97185</td>\n",
       "      <td>6146</td>\n",
       "      <td>12703</td>\n",
       "      <td>0</td>\n",
       "      <td>0</td>\n",
       "      <td>0</td>\n",
       "    </tr>\n",
       "    <tr>\n",
       "      <th>2</th>\n",
       "      <td>23</td>\n",
       "      <td>3191434</td>\n",
       "      <td>146033</td>\n",
       "      <td>5339</td>\n",
       "      <td>8181</td>\n",
       "      <td>0</td>\n",
       "      <td>0</td>\n",
       "      <td>0</td>\n",
       "    </tr>\n",
       "    <tr>\n",
       "      <th>3</th>\n",
       "      <td>24</td>\n",
       "      <td>343168</td>\n",
       "      <td>10172</td>\n",
       "      <td>666</td>\n",
       "      <td>2146</td>\n",
       "      <td>0</td>\n",
       "      <td>0</td>\n",
       "      <td>0</td>\n",
       "    </tr>\n",
       "    <tr>\n",
       "      <th>4</th>\n",
       "      <td>24</td>\n",
       "      <td>2095731</td>\n",
       "      <td>132235</td>\n",
       "      <td>1989</td>\n",
       "      <td>17518</td>\n",
       "      <td>0</td>\n",
       "      <td>0</td>\n",
       "      <td>0</td>\n",
       "    </tr>\n",
       "    <tr>\n",
       "      <th>...</th>\n",
       "      <td>...</td>\n",
       "      <td>...</td>\n",
       "      <td>...</td>\n",
       "      <td>...</td>\n",
       "      <td>...</td>\n",
       "      <td>...</td>\n",
       "      <td>...</td>\n",
       "      <td>...</td>\n",
       "    </tr>\n",
       "    <tr>\n",
       "      <th>40944</th>\n",
       "      <td>15</td>\n",
       "      <td>1685609</td>\n",
       "      <td>38160</td>\n",
       "      <td>1385</td>\n",
       "      <td>2657</td>\n",
       "      <td>0</td>\n",
       "      <td>0</td>\n",
       "      <td>0</td>\n",
       "    </tr>\n",
       "    <tr>\n",
       "      <th>40945</th>\n",
       "      <td>22</td>\n",
       "      <td>1064798</td>\n",
       "      <td>60008</td>\n",
       "      <td>382</td>\n",
       "      <td>3936</td>\n",
       "      <td>0</td>\n",
       "      <td>0</td>\n",
       "      <td>0</td>\n",
       "    </tr>\n",
       "    <tr>\n",
       "      <th>40946</th>\n",
       "      <td>24</td>\n",
       "      <td>1066451</td>\n",
       "      <td>48068</td>\n",
       "      <td>1032</td>\n",
       "      <td>3992</td>\n",
       "      <td>0</td>\n",
       "      <td>0</td>\n",
       "      <td>0</td>\n",
       "    </tr>\n",
       "    <tr>\n",
       "      <th>40947</th>\n",
       "      <td>1</td>\n",
       "      <td>5660813</td>\n",
       "      <td>192957</td>\n",
       "      <td>2846</td>\n",
       "      <td>13088</td>\n",
       "      <td>0</td>\n",
       "      <td>0</td>\n",
       "      <td>0</td>\n",
       "    </tr>\n",
       "    <tr>\n",
       "      <th>40948</th>\n",
       "      <td>20</td>\n",
       "      <td>10306119</td>\n",
       "      <td>357079</td>\n",
       "      <td>212976</td>\n",
       "      <td>144795</td>\n",
       "      <td>0</td>\n",
       "      <td>0</td>\n",
       "      <td>0</td>\n",
       "    </tr>\n",
       "  </tbody>\n",
       "</table>\n",
       "<p>40949 rows × 8 columns</p>\n",
       "</div>"
      ],
      "text/plain": [
       "       category_id     views   likes  dislikes  comment_count  \\\n",
       "0               22    748374   57527      2966          15954   \n",
       "1               24   2418783   97185      6146          12703   \n",
       "2               23   3191434  146033      5339           8181   \n",
       "3               24    343168   10172       666           2146   \n",
       "4               24   2095731  132235      1989          17518   \n",
       "...            ...       ...     ...       ...            ...   \n",
       "40944           15   1685609   38160      1385           2657   \n",
       "40945           22   1064798   60008       382           3936   \n",
       "40946           24   1066451   48068      1032           3992   \n",
       "40947            1   5660813  192957      2846          13088   \n",
       "40948           20  10306119  357079    212976         144795   \n",
       "\n",
       "       comments_disabled  ratings_disabled  video_error_or_removed  \n",
       "0                      0                 0                       0  \n",
       "1                      0                 0                       0  \n",
       "2                      0                 0                       0  \n",
       "3                      0                 0                       0  \n",
       "4                      0                 0                       0  \n",
       "...                  ...               ...                     ...  \n",
       "40944                  0                 0                       0  \n",
       "40945                  0                 0                       0  \n",
       "40946                  0                 0                       0  \n",
       "40947                  0                 0                       0  \n",
       "40948                  0                 0                       0  \n",
       "\n",
       "[40949 rows x 8 columns]"
      ]
     },
     "execution_count": 85,
     "metadata": {},
     "output_type": "execute_result"
    }
   ],
   "source": [
    "df.replace(to_replace=False, value = 0, inplace = True)\n",
    "df.replace(to_replace=True, value = 1, inplace = True)\n",
    "df"
   ]
  },
  {
   "cell_type": "markdown",
   "id": "a102bb2a",
   "metadata": {},
   "source": [
    "Una vez que la base de datos se ha depurado con los pasos anteriores se procede a aplicar técnicas de visualización de los datos."
   ]
  },
  {
   "cell_type": "code",
   "execution_count": 86,
   "id": "305a05e0",
   "metadata": {},
   "outputs": [
    {
     "name": "stdout",
     "output_type": "stream",
     "text": [
      "\u001b[1mPloteo de Views versus Likes\u001b[0m\n",
      "----------------------------------------------\n",
      "\r\n",
      "\n"
     ]
    },
    {
     "data": {
      "text/plain": [
       "<AxesSubplot:xlabel='likes', ylabel='views'>"
      ]
     },
     "execution_count": 86,
     "metadata": {},
     "output_type": "execute_result"
    },
    {
     "data": {
      "image/png": "[encoded data removed]",
      "text/plain": [
       "<Figure size 576x396 with 1 Axes>"
      ]
     },
     "metadata": {},
     "output_type": "display_data"
    }
   ],
   "source": [
    "titulo(\"Ploteo de Views versus Likes\")\n",
    "\n",
    "matplotlib.style.use('seaborn')\n",
    "\n",
    "df.plot.scatter(x='likes', y='views')\n"
   ]
  },
  {
   "cell_type": "markdown",
   "id": "94514ce7",
   "metadata": {},
   "source": [
    "Basado en el gráfico de dispersión anterior podemos concluir que las variables de likes y Views presentan una alta correlación positiva."
   ]
  },
  {
   "cell_type": "code",
   "execution_count": 87,
   "id": "1a175d4d",
   "metadata": {},
   "outputs": [
    {
     "name": "stdout",
     "output_type": "stream",
     "text": [
      "\u001b[1mPloteo de Likes versus Dislikes\u001b[0m\n",
      "----------------------------------------------\n",
      "\r\n",
      "\n"
     ]
    },
    {
     "data": {
      "text/plain": [
       "<AxesSubplot:xlabel='likes', ylabel='dislikes'>"
      ]
     },
     "execution_count": 87,
     "metadata": {},
     "output_type": "execute_result"
    },
    {
     "data": {
      "image/png": "[encoded data removed]",
      "text/plain": [
       "<Figure size 576x396 with 1 Axes>"
      ]
     },
     "metadata": {},
     "output_type": "display_data"
    }
   ],
   "source": [
    "titulo(\"Ploteo de Likes versus Dislikes\")\n",
    "\n",
    "matplotlib.style.use('seaborn')\n",
    "\n",
    "df.plot.scatter(x='likes', y='dislikes')\n"
   ]
  },
  {
   "cell_type": "markdown",
   "id": "6923e2a0",
   "metadata": {},
   "source": [
    "## Separacion de target y features\n",
    "\n",
    "Antes de normalizar y estandarizar procedemos a separar features y target."
   ]
  },
  {
   "cell_type": "code",
   "execution_count": 88,
   "id": "538664b4",
   "metadata": {},
   "outputs": [],
   "source": [
    "target = df[['category_id']]\n",
    "features = df.iloc[:,1:8]"
   ]
  },
  {
   "cell_type": "markdown",
   "id": "ddc6d439",
   "metadata": {},
   "source": [
    "## Normalización y estandarización (Feature Scaling)\n",
    "\n",
    "Una de las transformaciones más importantes que deben ser aplicadas a los datos es el escalamiento de características (feature scaling). En la mayoría de los casos, los algorítmos de aprendizaje automático no se desempeñan bien cuando la entrada de atributos numéricos presentan diferentes escalas. Existen dos formas comunes para conseguir que todos los datos de los atributos tengan la misma escala:\n",
    "\n",
    "1. **Normalización (min-max scaling)**: es la más simple; los valores son cambiados y re-escalados de tal forma que se presenten en un rango de 0 a 1. Lo anterior se logra restando el valor mínimo y dividiendo por el máximo menos el mínimo. \n",
    "\n",
    "$$Scaler(x_i)=\\frac{x_i-min(x)}{max(x) - min(x)}$$\n",
    "\n",
    "      \n",
    "2. **Estandarización:** La estandarización requiere primero restar el valor medio (mean value ${\\mu}$), por lo tanto los valores estandarizados siempre presentan una media igual a cero, y después dividir por la desviación estandar (standard deviation ${\\sigma}$), de tal forma que la distribución resultante presentará varianza igual a 1.\n",
    "\n",
    "\n",
    "$$Scaler(x_i)=\\frac{x_i-\\mu}{\\sigma}$$\n",
    "\n",
    "\n",
    "\n",
    "_____\n",
    "**Referencias:**\n",
    "\n",
    "***Hands-On Machine Learning with Scikit-Learn, Keras, and TensorFlow by Aurélien Géron.*** 2019, second edition. Prepare the Data for Machine Learning Algorithms, Feature Scaling, pág. 69-70."
   ]
  },
  {
   "cell_type": "markdown",
   "id": "585b74f8",
   "metadata": {},
   "source": [
    "### Normalización y estandarización"
   ]
  },
  {
   "cell_type": "code",
   "execution_count": 89,
   "id": "995de823",
   "metadata": {},
   "outputs": [
    {
     "name": "stdout",
     "output_type": "stream",
     "text": [
      "\u001b[1mResultado de la normalización y estandarización\u001b[0m\n",
      "----------------------------------------------\n",
      "\r\n",
      "\n",
      "          views     likes  dislikes  comment_count  comments_disabled  \\\n",
      "0      0.003321  0.010247  0.001771       0.011717                0.0   \n",
      "1      0.010738  0.017312  0.003671       0.009330                0.0   \n",
      "2      0.014168  0.026013  0.003189       0.006008                0.0   \n",
      "3      0.001521  0.001812  0.000398       0.001576                0.0   \n",
      "4      0.009303  0.023555  0.001188       0.012866                0.0   \n",
      "...         ...       ...       ...            ...                ...   \n",
      "40944  0.007482  0.006798  0.000827       0.001951                0.0   \n",
      "40945  0.004726  0.010689  0.000228       0.002891                0.0   \n",
      "40946  0.004733  0.008562  0.000616       0.002932                0.0   \n",
      "40947  0.025133  0.034372  0.001700       0.009612                0.0   \n",
      "40948  0.045760  0.063607  0.127194       0.106343                0.0   \n",
      "\n",
      "       ratings_disabled  video_error_or_removed  \n",
      "0                   0.0                     0.0  \n",
      "1                   0.0                     0.0  \n",
      "2                   0.0                     0.0  \n",
      "3                   0.0                     0.0  \n",
      "4                   0.0                     0.0  \n",
      "...                 ...                     ...  \n",
      "40944               0.0                     0.0  \n",
      "40945               0.0                     0.0  \n",
      "40946               0.0                     0.0  \n",
      "40947               0.0                     0.0  \n",
      "40948               0.0                     0.0  \n",
      "\n",
      "[40949 rows x 7 columns]\n"
     ]
    }
   ],
   "source": [
    "titulo(\"Resultado de la normalización y estandarización\")\n",
    "\n",
    "scaler = MinMaxScaler()\n",
    "nombreColumnas = features.columns.to_numpy()\n",
    "datosNormalizadosEstandarizados = pd.DataFrame(scaler.fit_transform(features), columns = nombreColumnas)\n",
    "\n",
    "print(datosNormalizadosEstandarizados)"
   ]
  },
  {
   "cell_type": "markdown",
   "id": "191375fd",
   "metadata": {},
   "source": [
    "Una vez normalizada y estandarizada la data procedemos a plotear de nuevo la información para poder comparar los resultados:"
   ]
  },
  {
   "cell_type": "code",
   "execution_count": 90,
   "id": "a55a02a7",
   "metadata": {},
   "outputs": [
    {
     "name": "stdout",
     "output_type": "stream",
     "text": [
      "\u001b[1mPloteo de Views versus Likes\u001b[0m\n",
      "----------------------------------------------\n",
      "\r\n",
      "\n"
     ]
    },
    {
     "data": {
      "text/plain": [
       "<AxesSubplot:xlabel='likes', ylabel='views'>"
      ]
     },
     "execution_count": 90,
     "metadata": {},
     "output_type": "execute_result"
    },
    {
     "data": {
      "image/png": "[encoded data removed]",
      "text/plain": [
       "<Figure size 576x396 with 1 Axes>"
      ]
     },
     "metadata": {},
     "output_type": "display_data"
    }
   ],
   "source": [
    "titulo(\"Ploteo de Views versus Likes\")\n",
    "\n",
    "matplotlib.style.use('seaborn')\n",
    "\n",
    "datosNormalizadosEstandarizados.plot.scatter(x='likes', y='views')"
   ]
  },
  {
   "cell_type": "code",
   "execution_count": 91,
   "id": "d8079720",
   "metadata": {},
   "outputs": [
    {
     "name": "stdout",
     "output_type": "stream",
     "text": [
      "\u001b[1mPloteo de Likes versus Dislikes\u001b[0m\n",
      "----------------------------------------------\n",
      "\r\n",
      "\n"
     ]
    },
    {
     "data": {
      "text/plain": [
       "<AxesSubplot:xlabel='likes', ylabel='dislikes'>"
      ]
     },
     "execution_count": 91,
     "metadata": {},
     "output_type": "execute_result"
    },
    {
     "data": {
      "image/png": "[encoded data removed]",
      "text/plain": [
       "<Figure size 576x396 with 1 Axes>"
      ]
     },
     "metadata": {},
     "output_type": "display_data"
    }
   ],
   "source": [
    "titulo(\"Ploteo de Likes versus Dislikes\")\n",
    "\n",
    "matplotlib.style.use('seaborn')\n",
    "\n",
    "datosNormalizadosEstandarizados.plot.scatter(x='likes', y='dislikes')"
   ]
  },
  {
   "cell_type": "markdown",
   "id": "53d9760d",
   "metadata": {},
   "source": [
    "Se puede concluir que se normalizó y estandarizó correctamente ya que se mantuvo la misma tendencia en ambos gráfico, con la única diferencia de la escala, que ahora es mucho menor que antes."
   ]
  },
  {
   "cell_type": "markdown",
   "id": "6e3381ec",
   "metadata": {},
   "source": [
    "# 4. Aplicar 3 métodos de su elección de los vistos en clase, creando una estrategia de modicación de loshiper-parámetros para mejora del modelo, elección de features óptimos y elaborar un análisis completo de los resultados obtenidos.\n",
    "\n",
    "\n",
    "# 6. Para los puntos 4 y 5, debe de recurrir a las métricas que investigó en el punto 1.\n",
    "\n",
    "# 7. No olvide el análisis científico que se espera de esta tarea, justique en todo momento los resultados y haga un buen uso de la Notebook.\n",
    "\n",
    "Se utilizará cuatro algoritmos diferentes de machine learning de clasificación para resolver el problema de predecir a cual categoría pertenece un video basado en su set de atributos.  Vamos a usar el mismo set de datos que ya se normalizó y estandarizó.\n",
    "\n",
    "## Separación de datos de prueba y entrenamiento\n",
    "\n",
    "Se procede a separar los datos de prueba y entrenamiento."
   ]
  },
  {
   "cell_type": "code",
   "execution_count": 92,
   "id": "1b5eafaf",
   "metadata": {},
   "outputs": [
    {
     "name": "stdout",
     "output_type": "stream",
     "text": [
      "\u001b[1mFeatures\u001b[0m\n",
      "----------------------------------------------\n",
      "\r\n",
      "\n",
      "Features Original (40949, 7)\n",
      "Features Train (30711, 7)\n",
      "Features Test (10238, 7)\n",
      "\r\n",
      "\n",
      "\u001b[1mTarget\u001b[0m\n",
      "----------------------------------------------\n",
      "\r\n",
      "\n",
      "Target Original (40949, 7)\n",
      "Target Train (30711, 7)\n",
      "Target Test (10238, 7)\n"
     ]
    }
   ],
   "source": [
    "featuresNormalizadsEstandarizados = datosNormalizadosEstandarizados.iloc[:,0:8]\n",
    "\n",
    "x_train, x_test, y_train, y_test = train_test_split(featuresNormalizadsEstandarizados, target, random_state=4)\n",
    "\n",
    "titulo(\"Features\")\n",
    "print(\"Features Original\", featuresNormalizadsEstandarizados.shape)\n",
    "print(\"Features Train\", x_train.shape)\n",
    "print(\"Features Test\", x_test.shape)\n",
    "\n",
    "newline()\n",
    "\n",
    "titulo(\"Target\")\n",
    "print(\"Target Original\", featuresNormalizadsEstandarizados.shape)\n",
    "print(\"Target Train\", x_train.shape)\n",
    "print(\"Target Test\", x_test.shape)"
   ]
  },
  {
   "cell_type": "markdown",
   "id": "81349780",
   "metadata": {},
   "source": [
    "## Algoritmo kNN\n",
    "\n",
    "Procederemos a usar el algoritmo kNN para crear modelo de predicción.  Se definine la cantidad de vecinos.  Empezamos con 3 vecinos.\n",
    "\n",
    "### 4 vecinos"
   ]
  },
  {
   "cell_type": "code",
   "execution_count": 93,
   "id": "9f676268",
   "metadata": {},
   "outputs": [
    {
     "data": {
      "text/plain": [
       "KNeighborsRegressor(n_neighbors=4)"
      ]
     },
     "execution_count": 93,
     "metadata": {},
     "output_type": "execute_result"
    }
   ],
   "source": [
    "n_neighbors4 = 4\n",
    "knn_model4 = KNeighborsRegressor(n_neighbors4)\n",
    "knn_model4.fit(x_train, y_train)"
   ]
  },
  {
   "cell_type": "markdown",
   "id": "d8db8a2d",
   "metadata": {},
   "source": [
    "Se evalua el error de predicción sobre los datos de entrenamiento y prueba usando RECM."
   ]
  },
  {
   "cell_type": "code",
   "execution_count": 94,
   "id": "9be53003",
   "metadata": {},
   "outputs": [
    {
     "name": "stdout",
     "output_type": "stream",
     "text": [
      "\u001b[1mRECM Training\u001b[0m 4.584301791288834\n",
      "\u001b[1mRECM Prueba\u001b[0m 6.05571034308346\n"
     ]
    }
   ],
   "source": [
    "train_preds4 = knn_model4.predict(x_train)\n",
    "mse4 = mean_squared_error(y_train, train_preds4)\n",
    "rmse4 = sqrt(mse4)\n",
    "print(bold(\"RECM Training\"), rmse4)\n",
    "\n",
    "test_preds4 = knn_model4.predict(x_test)\n",
    "test_mse4 = mean_squared_error(y_test, test_preds4)\n",
    "test_rmse4 = sqrt(test_mse4)\n",
    "print(bold(\"RECM Prueba\"), test_rmse4)"
   ]
  },
  {
   "cell_type": "markdown",
   "id": "7ea6f22d",
   "metadata": {},
   "source": [
    "### 3 vecinos\n",
    "\n",
    "Ahora probaremos con 3 vecinos."
   ]
  },
  {
   "cell_type": "code",
   "execution_count": 95,
   "id": "74b64646",
   "metadata": {},
   "outputs": [
    {
     "data": {
      "text/plain": [
       "KNeighborsRegressor(n_neighbors=3)"
      ]
     },
     "execution_count": 95,
     "metadata": {},
     "output_type": "execute_result"
    }
   ],
   "source": [
    "n_neighbors3 = 3\n",
    "knn_model3 = KNeighborsRegressor(n_neighbors3)\n",
    "knn_model3.fit(x_train, y_train)"
   ]
  },
  {
   "cell_type": "markdown",
   "id": "55151d37",
   "metadata": {},
   "source": [
    "Se evalua el error de predicción sobre los datos de entrenamiento y prueba usando RECM."
   ]
  },
  {
   "cell_type": "code",
   "execution_count": 96,
   "id": "9368b441",
   "metadata": {},
   "outputs": [
    {
     "name": "stdout",
     "output_type": "stream",
     "text": [
      "\u001b[1mRECM Training\u001b[0m 4.132301053503635\n",
      "\u001b[1mRECM Prueba\u001b[0m 6.041676574529378\n"
     ]
    }
   ],
   "source": [
    "train_preds3 = knn_model3.predict(x_train)\n",
    "mse3 = mean_squared_error(y_train, train_preds3)\n",
    "rmse3 = sqrt(mse3)\n",
    "print(bold(\"RECM Training\"), rmse3)\n",
    "\n",
    "test_preds3 = knn_model3.predict(x_test)\n",
    "test_mse3 = mean_squared_error(y_test, test_preds3)\n",
    "test_rmse3 = sqrt(test_mse3)\n",
    "print(bold(\"RECM Prueba\"), test_rmse3)"
   ]
  },
  {
   "cell_type": "markdown",
   "id": "bf95e774",
   "metadata": {},
   "source": [
    "### 2 vecinos\n",
    "\n",
    "Ahora probaremos con 2 vecinos."
   ]
  },
  {
   "cell_type": "code",
   "execution_count": 97,
   "id": "5b052c5d",
   "metadata": {},
   "outputs": [
    {
     "data": {
      "text/plain": [
       "KNeighborsRegressor(n_neighbors=2)"
      ]
     },
     "execution_count": 97,
     "metadata": {},
     "output_type": "execute_result"
    }
   ],
   "source": [
    "n_neighbors2 = 2\n",
    "knn_model2 = KNeighborsRegressor(n_neighbors2)\n",
    "knn_model2.fit(x_train, y_train)"
   ]
  },
  {
   "cell_type": "markdown",
   "id": "c0f6732f",
   "metadata": {},
   "source": [
    "Se evalua el error de predicción sobre los datos de entrenamiento y prueba usando RECM."
   ]
  },
  {
   "cell_type": "code",
   "execution_count": 98,
   "id": "40920668",
   "metadata": {},
   "outputs": [
    {
     "name": "stdout",
     "output_type": "stream",
     "text": [
      "\u001b[1mRECM Training\u001b[0m 3.390544412073655\n",
      "\u001b[1mRECM Prueba\u001b[0m 6.164738817534422\n"
     ]
    }
   ],
   "source": [
    "train_preds2 = knn_model2.predict(x_train)\n",
    "mse2 = mean_squared_error(y_train, train_preds2)\n",
    "rmse2 = sqrt(mse2)\n",
    "print(bold(\"RECM Training\"), rmse2)\n",
    "\n",
    "test_preds2 = knn_model2.predict(x_test)\n",
    "test_mse2 = mean_squared_error(y_test, test_preds2)\n",
    "test_rmse2 = sqrt(test_mse2)\n",
    "print(bold(\"RECM Prueba\"), test_rmse2)"
   ]
  },
  {
   "cell_type": "markdown",
   "id": "6038028f",
   "metadata": {},
   "source": [
    "Con 2 vecinos no vemos que haya un mayor acercamiento de ambas metricas.  Podemos concluir la mejor opcion para este modelo es con 3 vecinos."
   ]
  },
  {
   "cell_type": "markdown",
   "id": "a7c7fda9",
   "metadata": {},
   "source": [
    "Visualizamos las columnas de views (eje x) y likes (eje y) siendo lo más relevantes del set de datos de prueba, y la escala de color son las categorías."
   ]
  },
  {
   "cell_type": "code",
   "execution_count": 99,
   "id": "5ee4e739",
   "metadata": {
    "scrolled": true
   },
   "outputs": [
    {
     "data": {
      "image/png": "[encoded data removed]",
      "text/plain": [
       "<Figure size 576x396 with 2 Axes>"
      ]
     },
     "metadata": {},
     "output_type": "display_data"
    }
   ],
   "source": [
    "cmap = sns.cubehelix_palette(as_cmap=True)\n",
    "f, ax = plt.subplots()\n",
    "points = ax.scatter(x_test.iloc[:, 0], x_test.iloc[:, 1], c=test_preds3, s=50, cmap=cmap)\n",
    "f.colorbar(points)\n",
    "plt.show()"
   ]
  },
  {
   "cell_type": "markdown",
   "id": "756ab439",
   "metadata": {},
   "source": [
    "## Algoritmo de árboles de decisión\n",
    "\n",
    "Definimos nuestros datos de características (features) y el target:"
   ]
  },
  {
   "cell_type": "code",
   "execution_count": 100,
   "id": "9c5ead94",
   "metadata": {},
   "outputs": [
    {
     "data": {
      "text/html": [
       "<div>\n",
       "<style scoped>\n",
       "    .dataframe tbody tr th:only-of-type {\n",
       "        vertical-align: middle;\n",
       "    }\n",
       "\n",
       "    .dataframe tbody tr th {\n",
       "        vertical-align: top;\n",
       "    }\n",
       "\n",
       "    .dataframe thead th {\n",
       "        text-align: right;\n",
       "    }\n",
       "</style>\n",
       "<table border=\"1\" class=\"dataframe\">\n",
       "  <thead>\n",
       "    <tr style=\"text-align: right;\">\n",
       "      <th></th>\n",
       "      <th>likes</th>\n",
       "      <th>dislikes</th>\n",
       "      <th>comment_count</th>\n",
       "    </tr>\n",
       "  </thead>\n",
       "  <tbody>\n",
       "    <tr>\n",
       "      <th>0</th>\n",
       "      <td>0.010247</td>\n",
       "      <td>0.001771</td>\n",
       "      <td>0.011717</td>\n",
       "    </tr>\n",
       "    <tr>\n",
       "      <th>1</th>\n",
       "      <td>0.017312</td>\n",
       "      <td>0.003671</td>\n",
       "      <td>0.009330</td>\n",
       "    </tr>\n",
       "    <tr>\n",
       "      <th>2</th>\n",
       "      <td>0.026013</td>\n",
       "      <td>0.003189</td>\n",
       "      <td>0.006008</td>\n",
       "    </tr>\n",
       "    <tr>\n",
       "      <th>3</th>\n",
       "      <td>0.001812</td>\n",
       "      <td>0.000398</td>\n",
       "      <td>0.001576</td>\n",
       "    </tr>\n",
       "    <tr>\n",
       "      <th>4</th>\n",
       "      <td>0.023555</td>\n",
       "      <td>0.001188</td>\n",
       "      <td>0.012866</td>\n",
       "    </tr>\n",
       "  </tbody>\n",
       "</table>\n",
       "</div>"
      ],
      "text/plain": [
       "      likes  dislikes  comment_count\n",
       "0  0.010247  0.001771       0.011717\n",
       "1  0.017312  0.003671       0.009330\n",
       "2  0.026013  0.003189       0.006008\n",
       "3  0.001812  0.000398       0.001576\n",
       "4  0.023555  0.001188       0.012866"
      ]
     },
     "execution_count": 100,
     "metadata": {},
     "output_type": "execute_result"
    }
   ],
   "source": [
    "features = datosNormalizadosEstandarizados[['likes','dislikes','comment_count']]\n",
    "features.head()"
   ]
  },
  {
   "cell_type": "code",
   "execution_count": 101,
   "id": "0e853ada",
   "metadata": {},
   "outputs": [
    {
     "data": {
      "text/html": [
       "<div>\n",
       "<style scoped>\n",
       "    .dataframe tbody tr th:only-of-type {\n",
       "        vertical-align: middle;\n",
       "    }\n",
       "\n",
       "    .dataframe tbody tr th {\n",
       "        vertical-align: top;\n",
       "    }\n",
       "\n",
       "    .dataframe thead th {\n",
       "        text-align: right;\n",
       "    }\n",
       "</style>\n",
       "<table border=\"1\" class=\"dataframe\">\n",
       "  <thead>\n",
       "    <tr style=\"text-align: right;\">\n",
       "      <th></th>\n",
       "      <th>category_id</th>\n",
       "    </tr>\n",
       "  </thead>\n",
       "  <tbody>\n",
       "    <tr>\n",
       "      <th>0</th>\n",
       "      <td>22</td>\n",
       "    </tr>\n",
       "    <tr>\n",
       "      <th>1</th>\n",
       "      <td>24</td>\n",
       "    </tr>\n",
       "    <tr>\n",
       "      <th>2</th>\n",
       "      <td>23</td>\n",
       "    </tr>\n",
       "    <tr>\n",
       "      <th>3</th>\n",
       "      <td>24</td>\n",
       "    </tr>\n",
       "    <tr>\n",
       "      <th>4</th>\n",
       "      <td>24</td>\n",
       "    </tr>\n",
       "  </tbody>\n",
       "</table>\n",
       "</div>"
      ],
      "text/plain": [
       "   category_id\n",
       "0           22\n",
       "1           24\n",
       "2           23\n",
       "3           24\n",
       "4           24"
      ]
     },
     "execution_count": 101,
     "metadata": {},
     "output_type": "execute_result"
    }
   ],
   "source": [
    "target = df[['category_id']]\n",
    "target.head()"
   ]
  },
  {
   "cell_type": "markdown",
   "id": "46b77b85",
   "metadata": {},
   "source": [
    "Realizamos el split de datos de training y testing:"
   ]
  },
  {
   "cell_type": "code",
   "execution_count": 102,
   "id": "ec093345",
   "metadata": {},
   "outputs": [],
   "source": [
    "from sklearn.model_selection import train_test_split\n",
    "\n",
    "X_train, X_test, y_train, y_test = train_test_split(features, target, random_state=7)"
   ]
  },
  {
   "cell_type": "markdown",
   "id": "ef696c03",
   "metadata": {},
   "source": [
    "Construimos el clasificador de Decission Tree con una profundidad máxima de 2:"
   ]
  },
  {
   "cell_type": "code",
   "execution_count": 103,
   "id": "9f5892e0",
   "metadata": {},
   "outputs": [],
   "source": [
    "from sklearn.tree import DecisionTreeClassifier\n",
    "\n",
    "dt_clf = DecisionTreeClassifier(max_depth=2)"
   ]
  },
  {
   "cell_type": "markdown",
   "id": "e7021c5c",
   "metadata": {},
   "source": [
    "Entrenamos nuestro clasificador con los datos de features y target:"
   ]
  },
  {
   "cell_type": "code",
   "execution_count": 104,
   "id": "de3af506",
   "metadata": {},
   "outputs": [],
   "source": [
    "dt_clf = dt_clf.fit(X_train, y_train)"
   ]
  },
  {
   "cell_type": "markdown",
   "id": "c99c9705",
   "metadata": {},
   "source": [
    "Visualizamos nuestro árbol de decisión entrenado mediante la herramienta Graphviz: https://graphviz.org/"
   ]
  },
  {
   "cell_type": "code",
   "execution_count": 105,
   "id": "b8c39b39",
   "metadata": {},
   "outputs": [],
   "source": [
    "from sklearn.tree import export_graphviz\n",
    "\n",
    "export_graphviz(\n",
    "    dt_clf, \n",
    "    out_file='usvideos_tree.dot', \n",
    "    feature_names=features.columns, \n",
    "    class_names=[\"1\",\"2\",\"10\",\"15\",\"17\",\"19\",\"20\",\"22\",\"23\",\"24\",\"25\",\"26\",\"27\",\"28\",\"29\",\"43\"], \n",
    "    rounded=True, \n",
    "    filled=True)"
   ]
  },
  {
   "cell_type": "markdown",
   "id": "9e3ac616",
   "metadata": {},
   "source": [
    "Se convierte el archivo .dot a .png (o con la siguiente línea de código en el command-line: dot -Tpng usvideos_tree.dot -o usvideos_tree.png) y lo visualizamos:"
   ]
  },
  {
   "cell_type": "code",
   "execution_count": 106,
   "id": "892a9e5d",
   "metadata": {},
   "outputs": [
    {
     "data": {
      "image/png": "[encoded data removed]",
      "text/plain": [
       "<IPython.core.display.Image object>"
      ]
     },
     "execution_count": 106,
     "metadata": {},
     "output_type": "execute_result"
    }
   ],
   "source": [
    "#from subprocess import call\n",
    "#call(['dot','-T, 'png','usvideos_tree.dot','-o','usvideos_tree.png'])\n",
    "\n",
    "Image(\"usvideos_tree.png\")"
   ]
  },
  {
   "cell_type": "markdown",
   "id": "d8c07b1f",
   "metadata": {},
   "source": [
    "Ahora procedemos ha evaluar la efectividad de la predicción con nuestro modelo de Árbol de decisión utilizando la métrica de accuracy:"
   ]
  },
  {
   "cell_type": "code",
   "execution_count": 107,
   "id": "ccf48064",
   "metadata": {},
   "outputs": [
    {
     "data": {
      "text/plain": [
       "0.284430552842352"
      ]
     },
     "execution_count": 107,
     "metadata": {},
     "output_type": "execute_result"
    }
   ],
   "source": [
    "from sklearn.metrics import accuracy_score\n",
    "\n",
    "y_predict = dt_clf.predict(X_test)\n",
    "\n",
    "dt1 = accuracy_score(y_test, y_predict)\n",
    "dt1"
   ]
  },
  {
   "cell_type": "markdown",
   "id": "2d66c3f3",
   "metadata": {},
   "source": [
    "La métrica muestra un valor muy bajo por lo que sería mejor aplicar otro algoritmo para la predicción de los datos de categoría de los videos."
   ]
  },
  {
   "cell_type": "markdown",
   "id": "866717bc",
   "metadata": {},
   "source": [
    "## Algoritmo Naive Bayes\n",
    "\n",
    "Los clasificadores del algoritmo de Naive Bayes se basan en el teorema de Bayes, el cual es una ecuación que describe la relación de probabilidades condicionales de cifras estadísticas. La idea de este tipo de clasificación es encontrar la probabilidad de una etiqueta (label) dadas las características observadas (features), que se expresa como **P(L | features)**, que el teorema de Bayes expresa de la siguiente forma:\n",
    "\n",
    "$$ P(L | features) = \\frac{P(features | L) P(L)}{P(features)} $$\n",
    "\n",
    "Debido a que el modelo se complica entre más etiquetas contenga nuestra base de datos (**Generative model**), se requiere un simplificador de los supuestos considerados (de lo cual procede la denominación \"Naive\" o ingenuo). Para el ejemplo a desarrollar sobre la base de datos \"usvideos.csv\", aplicaremos el conjunto de supuestos del algoritmo **Gaussian naive Bayes** (que supone que los datos están representados por una distribución Gausiana o normal)."
   ]
  },
  {
   "cell_type": "code",
   "execution_count": 108,
   "id": "def9ea93",
   "metadata": {},
   "outputs": [],
   "source": [
    "# Se definen los valores de X (features) y (labels)\n",
    "\n",
    "features = datosNormalizadosEstandarizados[['likes','dislikes','comment_count']]\n",
    "labels = df[['category_id']]\n",
    "\n",
    "# Procedemos a realizar la redistribución de nuestros datos en los sets de entrenamiento y prueba:\n",
    "from sklearn.model_selection import train_test_split\n",
    "\n",
    "X_train, X_test, y_train, y_test = train_test_split(features, labels, random_state=7)"
   ]
  },
  {
   "cell_type": "markdown",
   "id": "bef75acb",
   "metadata": {},
   "source": [
    "Implementamos el clasificador GaussinNB de la librería sklearn y entrenamos el modelo con nuestros datos:"
   ]
  },
  {
   "cell_type": "code",
   "execution_count": 109,
   "id": "bd0bc94d",
   "metadata": {},
   "outputs": [
    {
     "name": "stderr",
     "output_type": "stream",
     "text": [
      "C:\\Users\\araygada\\Anaconda3\\lib\\site-packages\\sklearn\\utils\\validation.py:63: DataConversionWarning: A column-vector y was passed when a 1d array was expected. Please change the shape of y to (n_samples, ), for example using ravel().\n",
      "  return f(*args, **kwargs)\n"
     ]
    },
    {
     "data": {
      "text/plain": [
       "GaussianNB()"
      ]
     },
     "execution_count": 109,
     "metadata": {},
     "output_type": "execute_result"
    }
   ],
   "source": [
    "from sklearn.naive_bayes import GaussianNB\n",
    "\n",
    "model = GaussianNB()\n",
    "model.fit(X_train, y_train)"
   ]
  },
  {
   "cell_type": "markdown",
   "id": "7aa89cce",
   "metadata": {},
   "source": [
    "Seguidamente procedemos a aplicar la predicción con nuestras características de prueba (x_text):"
   ]
  },
  {
   "cell_type": "code",
   "execution_count": 110,
   "id": "b8d4773d",
   "metadata": {},
   "outputs": [
    {
     "data": {
      "text/plain": [
       "0.07481930064465717"
      ]
     },
     "execution_count": 110,
     "metadata": {},
     "output_type": "execute_result"
    }
   ],
   "source": [
    "y_predict = model.predict(X_test)\n",
    "\n",
    "from sklearn.metrics import accuracy_score\n",
    "\n",
    "gnb1 = accuracy_score(y_test, y_predict)\n",
    "gnb1"
   ]
  },
  {
   "cell_type": "markdown",
   "id": "3edcb90c",
   "metadata": {},
   "source": [
    "Igualmente en este caso la mética de accuracy resulta bastante baja pero a través de la visualización de los datos de prueba y de predicción parace que los datos de \"comment count\" contribuyen de mejor manera a la clasificación:"
   ]
  },
  {
   "cell_type": "code",
   "execution_count": 111,
   "id": "30d2afb4",
   "metadata": {
    "scrolled": true
   },
   "outputs": [
    {
     "data": {
      "image/png": "[encoded data removed]",
      "text/plain": [
       "<Figure size 576x396 with 2 Axes>"
      ]
     },
     "metadata": {},
     "output_type": "display_data"
    }
   ],
   "source": [
    "# Visualización de datos con likes en el eje x y dislikes en el eje y\n",
    "\n",
    "cmap = sns.color_palette(\"crest\", as_cmap=True)\n",
    "f, ax = plt.subplots()\n",
    "points = ax.scatter(X_test.iloc[:, 0], X_test.iloc[:, 1], c=y_predict, s=50, cmap=cmap)\n",
    "f.colorbar(points)\n",
    "plt.show()"
   ]
  },
  {
   "cell_type": "code",
   "execution_count": 112,
   "id": "5134bc40",
   "metadata": {
    "scrolled": true
   },
   "outputs": [
    {
     "data": {
      "image/png": "[encoded data removed]",
      "text/plain": [
       "<Figure size 576x396 with 2 Axes>"
      ]
     },
     "metadata": {},
     "output_type": "display_data"
    }
   ],
   "source": [
    "# Visualización de datos con \"likes\" en el eje x y \"comment count\" en el eje y\n",
    "\n",
    "cmap = sns.color_palette(\"crest\", as_cmap=True)\n",
    "f, ax = plt.subplots()\n",
    "points = ax.scatter(X_test.iloc[:, 0], X_test.iloc[:, 2], c=y_predict, s=50, cmap=cmap)\n",
    "f.colorbar(points)\n",
    "plt.show()"
   ]
  },
  {
   "cell_type": "markdown",
   "id": "3577deca",
   "metadata": {},
   "source": [
    "Por lo cual corremos de nuevo el modelo únicamente con las features de 'likes' y 'comment count' y obtenemos una mejora importante en la métrica de accuracy:"
   ]
  },
  {
   "cell_type": "code",
   "execution_count": 113,
   "id": "5852320a",
   "metadata": {},
   "outputs": [
    {
     "name": "stderr",
     "output_type": "stream",
     "text": [
      "C:\\Users\\araygada\\Anaconda3\\lib\\site-packages\\sklearn\\utils\\validation.py:63: DataConversionWarning: A column-vector y was passed when a 1d array was expected. Please change the shape of y to (n_samples, ), for example using ravel().\n",
      "  return f(*args, **kwargs)\n"
     ]
    },
    {
     "data": {
      "text/plain": [
       "0.1068568079703067"
      ]
     },
     "execution_count": 113,
     "metadata": {},
     "output_type": "execute_result"
    }
   ],
   "source": [
    "features = datosNormalizadosEstandarizados[['likes', 'comment_count']]\n",
    "X_train, X_test, y_train, y_test = train_test_split(features, labels, random_state=7)\n",
    "model.fit(X_train, y_train)\n",
    "y_predict = model.predict(X_test)\n",
    "gnb2 = accuracy_score(y_test, y_predict)\n",
    "gnb2"
   ]
  },
  {
   "cell_type": "markdown",
   "id": "7546cb91",
   "metadata": {},
   "source": [
    "# 5. Ejecutar el mismo análisis anterior pero esta vez para un método de ensamble que no se haya visto en clase. Indique ademas, en que consisten los métodos de ensamble y cuáles son sus principales características.\n",
    "\n",
    "## Algoritmo Ensamble\n",
    "\n",
    "En el campo del aprendizaje automático, los métodos combinados (métodos de ensemble) utilizan múltiples algoritmos de aprendizaje para obtener un rendimiento predictivo que mejore el que podría obtenerse por medio de cualquiera de los algoritmos de aprendizaje individuales que lo constituyen.\n",
    "\n",
    "\n",
    "Como ya vimos, los algoritmos de aprendizaje supervisado se describen normalmente como la tarea de buscar a través de un espacio de hipótesis para encontrar la más adecuada que haga buenas predicciones con un problema en particular. En general, esta tarea es muy complicada y, ni siquiera teniendo la certeza de que en el espacio completo existe una buena solución, podemos estar seguros de encontrarla.\n",
    "\n",
    "La idea de los métodos combinados es considerar múltiples hipótesis simultáneamente para formar una hipótesis que, con suerte (y la ayuda de algunos teoremas esenciales), se comporte mejor. El término de métodos de ensemble se suele reservar para aquellas combinaciones que hacen uso de múltiples hipótesis pertenecientes a una misma familia, mientras que se usa el término más general de sistemas de aprendizaje múltiples cuando las hipótesis que se combinan provienen de diversas familias.\n",
    "\n",
    "Evidentemente, debido a que los métodos combinados hacen uso de varias hipótesis simultáneas, se produce una elevación en los costes computacionales, por lo que suele ser habitual utilizar algoritmos rápidos como espacio de hipótesis base, como son los árboles de decisión.\n",
    "\n",
    "Una combinación de algoritmos de aprendizaje supervisado es en si mismo un algoritmo de aprendizaje supervisado y puede ser entrenado y usado para hacer predicciones. Sin embargo, se debe tener en cuenta que una combinación de hipótesis (algoritmos) de una determinada familia no es necesariamente una hipótesis (algoritmo) de la misma familia, por lo que podríamos obtener mejores resultados que con los elementos individuales de la familia, aunque también podemos correr el riesgo de obtener un modelo sobreajustado si no se tienen algunas precauciones. En la práctica, la forma en que se seleccionan los modelos individuales que se combinan hacen uso de algunas técnicas que tienden a reducir los problemas relacionados con el exceso de ajuste de los datos de entrenamiento y mejoran la prediccióm conjunta.\n",
    "\n",
    "Empíricamente, se ha comprobado que cuando existe una diversidad significativa entre los modelos individuales, las combinaciones tienden a obtener mejores resultados, por lo que muchos de los métodos existentes buscan promover la diversidad entre los modelos que se combinan, y ello provoca a veces que se usen como modelos aquellos que hacen un uso fuerte de la aleatoriedad, en vez de modelos más dirigidos y que funcionan mejor individualmente.\n",
    "\n",
    "## Tipos de métodos de Ensamble\n",
    "\n",
    "En general hay varios tipos de métodos de ensamble, sin embargo nos enfocaremos en estos tres de los más populares\n",
    "\n",
    "### Bootstrap aggregating (bagging)\n",
    "\n",
    "Cuando usamos bagging, también combinamos varios modelos de machine learning. A diferencia del voto por mayoría, la forma de conseguir que los errores se compensen entre sí, es que cada modelo se entrena con subconjuntos del conjunto de entrenamiento. Estos subconjuntos se forman eligiendo muestras aleatoriamente (con repetición) del conjunto de entrenamiento.\n",
    "\n",
    "Los resultados se combinan, para problemas de clasificación, igual que hemos visto en la votación por mayoría, con el voto suave para los modelos que den probabilidades. Para problemas de regresión, normalmente se utiliza la media aritmética.\n",
    "\n",
    "\n",
    "Los bosques aleatorios (random forests), no son ni más ni menos, que un ensemble de árboles de decisión combinados con bagging. Aunque bagging se puede usar con cualquier modelo, la opción de usarlo con árboles de decisión es muy popular por motivos de rendimiento. Normalmente, es muy rápido construir un árbol de decisión.\n",
    "\n",
    "### Boosting\n",
    "\n",
    "En el boosting, cada modelo intenta arreglar los errores de los modelos anteriores. Por ejemplo, en el caso de clasificación, el primer modelo tratará de aprender la relación entre los atributos de entrada y el resultado. Seguramente cometerá algunos errores. Así que el segundo modelo intentará reducir estos errores. Esto se consigue dándole más peso a las muestras mal clasificadas y menos peso a las muestras bien clasificadas. Para problemas de regresión, las predicciones con un mayor error cuadrático medio tendrán más peso para el siguiente modelo.\n",
    "\n",
    "Hay muchas implementaciones de ensembles que usan boosting. El primero fue el AdaBoost. Los más usados actualmente son xgboost, CatBoost y LightGBM.\n",
    "\n",
    "### Stacking\n",
    "\n",
    "Cuando hablamos de un ensemble de stacking, nos referimos a que estamos apilando modelos. Cuando apilamos modelos, lo que en realidad estamos haciendo, es usar la salida de varios modelos como la entrada de varios modelos. Por ejemplo, el ganador del Aguathón, «ensambló» varios modelos apilándolos para conseguir un rendimiento mejor. El problema consistía en predecir el nivel del río Ebro a su paso por Zaragoza a 24h, 48h y 72h. César Montenegro usó bosques aleatorios para predecir el nivel del Ebro a 6, 12, 18, 24, 30, 36, 42, 48, 54, 60, 66, 72 horas y luego uso otro bosque aleatorio que usaba estas predicciones como entrada y predecía el nivel del río a 24h, 48h y 72h. Esta forma de combinar los modelos, sin duda contribuyó a un mejor rendimiento de su solución.\n",
    "\n",
    "_____\n",
    "**Referencias:**\n",
    "\n",
    "***Ensemble learning*** https://en.wikipedia.org/wiki/Ensemble_learning#Ensemble_theory\n",
    "\n",
    "***Ensembles: voting, bagging, boosting, stacking por Jose Martinez Heras*** 31/05/2019 https://www.iartificial.net/ensembles-voting-bagging-boosting-stacking/\n",
    "\n",
    "***Métodos combinados de aprendizaje por Fernando Sancho Caparrini*** 26 de Diciembre de 2018 http://www.cs.us.es/~fsancho/?e=106"
   ]
  },
  {
   "cell_type": "markdown",
   "id": "68e89669",
   "metadata": {},
   "source": [
    "Usaremos boosting para aplicar a nuestro data set de Youtube.\n",
    "\n",
    "Importando las librerías para algoritmo de boosting"
   ]
  },
  {
   "cell_type": "code",
   "execution_count": 114,
   "id": "bd7c4bf7",
   "metadata": {},
   "outputs": [
    {
     "name": "stdout",
     "output_type": "stream",
     "text": [
      "GradientBoostingClassifier()\n"
     ]
    }
   ],
   "source": [
    "from sklearn.ensemble import GradientBoostingClassifier\n",
    "from sklearn.model_selection import GridSearchCV\n",
    "\n",
    "print(GradientBoostingClassifier())"
   ]
  },
  {
   "cell_type": "code",
   "execution_count": 115,
   "id": "0d3a4ade",
   "metadata": {},
   "outputs": [],
   "source": [
    "#Funcion para imprimir resultados\n",
    "\n",
    "def print_results(results):\n",
    "    print('BEST PARAMS: {}\\n'.format(results.best_params_))\n",
    "\n",
    "    means = results.cv_results_['mean_test_score']\n",
    "    stds = results.cv_results_['std_test_score']\n",
    "    for mean, std, params in zip(means, stds, results.cv_results_['params']):\n",
    "        print('{} (+/-{}) for {}'.format(round(mean, 3), round(std * 2, 3), params))\n",
    "        "
   ]
  },
  {
   "cell_type": "code",
   "execution_count": 116,
   "id": "19676c60",
   "metadata": {},
   "outputs": [
    {
     "name": "stderr",
     "output_type": "stream",
     "text": [
      "C:\\Users\\araygada\\Anaconda3\\lib\\site-packages\\sklearn\\model_selection\\_split.py:666: UserWarning: The least populated class in y has only 2 members, which is less than n_splits=5.\n",
      "  warnings.warn((\"The least populated class in y has only %d\"\n"
     ]
    },
    {
     "name": "stdout",
     "output_type": "stream",
     "text": [
      "BEST PARAMS: {'learning_rate': 0.01, 'max_depth': 1, 'n_estimators': 250}\n",
      "\n",
      "0.241 (+/-0.015) for {'learning_rate': 0.01, 'max_depth': 1, 'n_estimators': 50}\n",
      "0.262 (+/-0.025) for {'learning_rate': 0.01, 'max_depth': 1, 'n_estimators': 250}\n",
      "0.262 (+/-0.025) for {'learning_rate': 0.01, 'max_depth': 1, 'n_estimators': 500}\n",
      "0.238 (+/-0.033) for {'learning_rate': 0.01, 'max_depth': 3, 'n_estimators': 50}\n",
      "0.209 (+/-0.101) for {'learning_rate': 0.01, 'max_depth': 3, 'n_estimators': 250}\n",
      "0.201 (+/-0.141) for {'learning_rate': 0.01, 'max_depth': 3, 'n_estimators': 500}\n",
      "0.243 (+/-0.053) for {'learning_rate': 0.01, 'max_depth': 5, 'n_estimators': 50}\n",
      "0.179 (+/-0.087) for {'learning_rate': 0.01, 'max_depth': 5, 'n_estimators': 250}\n",
      "0.171 (+/-0.068) for {'learning_rate': 0.01, 'max_depth': 5, 'n_estimators': 500}\n",
      "0.257 (+/-0.03) for {'learning_rate': 0.1, 'max_depth': 1, 'n_estimators': 50}\n",
      "0.211 (+/-0.072) for {'learning_rate': 0.1, 'max_depth': 1, 'n_estimators': 250}\n",
      "0.198 (+/-0.068) for {'learning_rate': 0.1, 'max_depth': 1, 'n_estimators': 500}\n",
      "0.193 (+/-0.132) for {'learning_rate': 0.1, 'max_depth': 3, 'n_estimators': 50}\n",
      "0.171 (+/-0.068) for {'learning_rate': 0.1, 'max_depth': 3, 'n_estimators': 250}\n",
      "0.171 (+/-0.068) for {'learning_rate': 0.1, 'max_depth': 3, 'n_estimators': 500}\n",
      "0.171 (+/-0.068) for {'learning_rate': 0.1, 'max_depth': 5, 'n_estimators': 50}\n",
      "0.171 (+/-0.068) for {'learning_rate': 0.1, 'max_depth': 5, 'n_estimators': 250}\n",
      "0.171 (+/-0.068) for {'learning_rate': 0.1, 'max_depth': 5, 'n_estimators': 500}\n"
     ]
    }
   ],
   "source": [
    "x_train, x_test, y_train, y_test = train_test_split(featuresNormalizadsEstandarizados.iloc[0:499,0:1], target.iloc[0:499,:], random_state=4)\n",
    "\n",
    "gb = GradientBoostingClassifier()\n",
    "parameters = {\n",
    "    'n_estimators': [50, 250, 500],\n",
    "    'max_depth': [1, 3, 5],\n",
    "    'learning_rate': [0.01, 0.1]\n",
    "#    'n_estimators': [5, 50, 250, 500],\n",
    "#    'max_depth': [1, 3, 5, 7, 9],\n",
    "#    'learning_rate': [0.01, 0.1, 1, 10, 100]\n",
    "}\n",
    "\n",
    "cv = GridSearchCV(gb, parameters, cv=5)\n",
    "\n",
    "cv.fit(x_train, y_train.values.ravel())\n",
    "\n",
    "print_results(cv)\n"
   ]
  },
  {
   "cell_type": "code",
   "execution_count": null,
   "id": "d91c53b2",
   "metadata": {},
   "outputs": [],
   "source": []
  }
 ],
 "metadata": {
  "kernelspec": {
   "display_name": "Python 3",
   "language": "python",
   "name": "python3"
  },
  "language_info": {
   "codemirror_mode": {
    "name": "ipython",
    "version": 3
   },
   "file_extension": ".py",
   "mimetype": "text/x-python",
   "name": "python",
   "nbconvert_exporter": "python",
   "pygments_lexer": "ipython3",
   "version": "3.8.8"
  }
 },
 "nbformat": 4,
 "nbformat_minor": 5
}
